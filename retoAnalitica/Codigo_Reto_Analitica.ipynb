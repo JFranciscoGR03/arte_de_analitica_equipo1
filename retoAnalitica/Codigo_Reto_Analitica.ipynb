{
 "cells": [
  {
   "cell_type": "code",
   "execution_count": 28,
   "id": "f5829edc",
   "metadata": {},
   "outputs": [
    {
     "name": "stdout",
     "output_type": "stream",
     "text": [
      "2 3 7 11 13 17 19 23 29 31 37 "
     ]
    }
   ],
   "source": [
    "def numprimos(n):\n",
    "    for i in range(n+1):\n",
    "        if i==1:\n",
    "            print(\"\", end=\"\")\n",
    "        elif i==2 or i==3:\n",
    "            print(i, end=\" \")\n",
    "        elif i%2==0 or i%3==0 or i%5==0:\n",
    "            print(\"\", end=\"\")\n",
    "        elif i%2!=0:\n",
    "            print(i, end=\" \")\n",
    "            \n",
    "numprimos(40)"
   ]
  },
  {
   "cell_type": "code",
   "execution_count": 19,
   "id": "60a439c9",
   "metadata": {},
   "outputs": [
    {
     "name": "stdout",
     "output_type": "stream",
     "text": [
      "a=  [13.45, 20.67, -15.0821]\n",
      "b=  [-5.012, -40.333, 12.874]\n",
      "a x b =  [-342.20075929999996, -97.56381480000002, -438.88081]\n"
     ]
    }
   ],
   "source": [
    "def productoCruz(v1, v2):\n",
    "    \n",
    "    suma1 = v1[1] * v2[2] - (v2[1] * v1[2])\n",
    "    suma2 = v1[2] * v2[0] - (v1[0] * v2[2])\n",
    "    suma3 = v1[0] * v2[1] - (v2[0] * v1[1])\n",
    "    \n",
    "    cr = [suma1, suma2, suma3]\n",
    "                                           \n",
    "    print(\"a= \", v1)\n",
    "    print(\"b= \", v2)\n",
    "    print(\"a x b = \", cr)\n",
    "    \n",
    "productoCruz([13.45, 20.67, -15.0821], [-5.012, -40.333, 12.874])"
   ]
  },
  {
   "cell_type": "code",
   "execution_count": 22,
   "id": "1c6fc995",
   "metadata": {},
   "outputs": [
    {
     "name": "stdout",
     "output_type": "stream",
     "text": [
      "[['13.45', '20.67', '-15.0821'], ['-5.012', '-40.333', '12.874']]\n",
      "a=  [13.45, 20.67, -15.0821]\n",
      "b=  [-5.012, -40.333, 12.874]\n",
      "a x b =  [-342.20075929999996, -97.56381480000002, -438.88081]\n"
     ]
    }
   ],
   "source": [
    "import csv\n",
    "filas = []\n",
    "with open(\"Vectores.csv\", 'r') as file:\n",
    "    csvr = csv.reader(file)\n",
    "    for row in csvr:\n",
    "        filas.append(row)\n",
    "print(filas)\n",
    "\n",
    "x = [float(filas[0][0]), float(filas[0][1]), float(filas[0][2])]\n",
    "y = [float(filas[1][0]), float(filas[1][1]), float(filas[1][2])]\n",
    "\n",
    "cr = productoCruz(x, y)"
   ]
  }
 ],
 "metadata": {
  "kernelspec": {
   "display_name": "Python 3 (ipykernel)",
   "language": "python",
   "name": "python3"
  },
  "language_info": {
   "codemirror_mode": {
    "name": "ipython",
    "version": 3
   },
   "file_extension": ".py",
   "mimetype": "text/x-python",
   "name": "python",
   "nbconvert_exporter": "python",
   "pygments_lexer": "ipython3",
   "version": "3.9.12"
  }
 },
 "nbformat": 4,
 "nbformat_minor": 5
}
