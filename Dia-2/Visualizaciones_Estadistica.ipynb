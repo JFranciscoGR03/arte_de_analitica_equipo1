{
 "cells": [
  {
   "cell_type": "code",
   "execution_count": 4,
   "id": "2a6e2bed",
   "metadata": {},
   "outputs": [
    {
     "data": {
      "text/html": [
       "<div>\n",
       "<style scoped>\n",
       "    .dataframe tbody tr th:only-of-type {\n",
       "        vertical-align: middle;\n",
       "    }\n",
       "\n",
       "    .dataframe tbody tr th {\n",
       "        vertical-align: top;\n",
       "    }\n",
       "\n",
       "    .dataframe thead th {\n",
       "        text-align: right;\n",
       "    }\n",
       "</style>\n",
       "<table border=\"1\" class=\"dataframe\">\n",
       "  <thead>\n",
       "    <tr style=\"text-align: right;\">\n",
       "      <th></th>\n",
       "      <th>x</th>\n",
       "      <th>y</th>\n",
       "    </tr>\n",
       "  </thead>\n",
       "  <tbody>\n",
       "    <tr>\n",
       "      <th>count</th>\n",
       "      <td>61.000000</td>\n",
       "      <td>61.000000</td>\n",
       "    </tr>\n",
       "    <tr>\n",
       "      <th>mean</th>\n",
       "      <td>1983.714168</td>\n",
       "      <td>977.144220</td>\n",
       "    </tr>\n",
       "    <tr>\n",
       "      <th>std</th>\n",
       "      <td>874.951754</td>\n",
       "      <td>306.700042</td>\n",
       "    </tr>\n",
       "    <tr>\n",
       "      <th>min</th>\n",
       "      <td>519.354701</td>\n",
       "      <td>339.458277</td>\n",
       "    </tr>\n",
       "    <tr>\n",
       "      <th>25%</th>\n",
       "      <td>1246.021627</td>\n",
       "      <td>725.536588</td>\n",
       "    </tr>\n",
       "    <tr>\n",
       "      <th>50%</th>\n",
       "      <td>1992.041835</td>\n",
       "      <td>969.563489</td>\n",
       "    </tr>\n",
       "    <tr>\n",
       "      <th>75%</th>\n",
       "      <td>2703.450582</td>\n",
       "      <td>1205.542223</td>\n",
       "    </tr>\n",
       "    <tr>\n",
       "      <th>max</th>\n",
       "      <td>3459.642149</td>\n",
       "      <td>1617.523303</td>\n",
       "    </tr>\n",
       "  </tbody>\n",
       "</table>\n",
       "</div>"
      ],
      "text/plain": [
       "                 x            y\n",
       "count    61.000000    61.000000\n",
       "mean   1983.714168   977.144220\n",
       "std     874.951754   306.700042\n",
       "min     519.354701   339.458277\n",
       "25%    1246.021627   725.536588\n",
       "50%    1992.041835   969.563489\n",
       "75%    2703.450582  1205.542223\n",
       "max    3459.642149  1617.523303"
      ]
     },
     "execution_count": 4,
     "metadata": {},
     "output_type": "execute_result"
    }
   ],
   "source": [
    "import pandas as pd\n",
    "import numpy as np\n",
    "import seaborn as sb\n",
    "import matplotlib.pyplot as plt\n",
    "\n",
    "data = pd.read_csv(\"data1.csv\")\n",
    "\n",
    "data.describe(include = \"all\")"
   ]
  },
  {
   "cell_type": "code",
   "execution_count": 46,
   "id": "e8252f99",
   "metadata": {},
   "outputs": [
    {
     "data": {
      "image/png": "[encoded data removed]",
      "text/plain": [
       "<Figure size 432x288 with 1 Axes>"
      ]
     },
     "metadata": {
      "needs_background": "light"
     },
     "output_type": "display_data"
    }
   ],
   "source": [
    "variables = [\"x\", \"y\"]\n",
    "plt.boxplot(data, labels = variables, notch = True, patch_artist = True)\n",
    "plt.title(\"Diagrama de cajas y bigotes\")\n",
    "plt.show()"
   ]
  },
  {
   "cell_type": "markdown",
   "id": "e35e3670",
   "metadata": {},
   "source": [
    "En este diagrama se puede observar para una variable la diferencia entre el mayor y el menor, cómo están distribuidos los datos, dónde se encuentra la mediana y si existen bigotes, datos que se salen de los valores esperados a partir de los demás."
   ]
  },
  {
   "cell_type": "code",
   "execution_count": 48,
   "id": "55896e20",
   "metadata": {},
   "outputs": [
    {
     "data": {
      "image/png": "[encoded data removed]",
      "text/plain": [
       "<Figure size 432x288 with 1 Axes>"
      ]
     },
     "metadata": {
      "needs_background": "light"
     },
     "output_type": "display_data"
    }
   ],
   "source": [
    "plt.hist(data, label = variables)\n",
    "plt.title(\"Histograma\")\n",
    "plt.legend()\n",
    "plt.show()"
   ]
  },
  {
   "cell_type": "markdown",
   "id": "28b9f9de",
   "metadata": {},
   "source": [
    "Esta gráfica nos arroja la información acerca de cómo esta distribuida la variable y en qué rangos se encuentran más valores."
   ]
  },
  {
   "cell_type": "code",
   "execution_count": 23,
   "id": "d515a10c",
   "metadata": {},
   "outputs": [
    {
     "data": {
      "text/html": [
       "<div>\n",
       "<style scoped>\n",
       "    .dataframe tbody tr th:only-of-type {\n",
       "        vertical-align: middle;\n",
       "    }\n",
       "\n",
       "    .dataframe tbody tr th {\n",
       "        vertical-align: top;\n",
       "    }\n",
       "\n",
       "    .dataframe thead th {\n",
       "        text-align: right;\n",
       "    }\n",
       "</style>\n",
       "<table border=\"1\" class=\"dataframe\">\n",
       "  <thead>\n",
       "    <tr style=\"text-align: right;\">\n",
       "      <th></th>\n",
       "      <th>x</th>\n",
       "      <th>y</th>\n",
       "    </tr>\n",
       "  </thead>\n",
       "  <tbody>\n",
       "    <tr>\n",
       "      <th>x</th>\n",
       "      <td>1.00000</td>\n",
       "      <td>0.94009</td>\n",
       "    </tr>\n",
       "    <tr>\n",
       "      <th>y</th>\n",
       "      <td>0.94009</td>\n",
       "      <td>1.00000</td>\n",
       "    </tr>\n",
       "  </tbody>\n",
       "</table>\n",
       "</div>"
      ],
      "text/plain": [
       "         x        y\n",
       "x  1.00000  0.94009\n",
       "y  0.94009  1.00000"
      ]
     },
     "execution_count": 23,
     "metadata": {},
     "output_type": "execute_result"
    }
   ],
   "source": [
    "data.corr(method = \"pearson\")"
   ]
  },
  {
   "cell_type": "markdown",
   "id": "206ecfa7",
   "metadata": {},
   "source": [
    "El diagrama de correlación sirve para indicar si hay variables que se parecen. Generalmente conviene eliminar variables con alta correlación, ya que éstas pueden hacer más difícil de solucionar el problema."
   ]
  },
  {
   "cell_type": "code",
   "execution_count": 50,
   "id": "a620229f",
   "metadata": {},
   "outputs": [
    {
     "data": {
      "image/png": "[encoded data removed]",
      "text/plain": [
       "<Figure size 360x360 with 6 Axes>"
      ]
     },
     "metadata": {
      "needs_background": "light"
     },
     "output_type": "display_data"
    }
   ],
   "source": [
    "sb.pairplot(data)\n",
    "plt.show()"
   ]
  },
  {
   "cell_type": "markdown",
   "id": "e3da2e2e",
   "metadata": {},
   "source": [
    "El correlograma es muy útil para el análisis exploratorio ya que nos permite observar rápidamente la relación entre cada variable de los datos."
   ]
  },
  {
   "cell_type": "code",
   "execution_count": 42,
   "id": "4684bd4d",
   "metadata": {},
   "outputs": [
    {
     "data": {
      "text/plain": [
       "<AxesSubplot:>"
      ]
     },
     "execution_count": 42,
     "metadata": {},
     "output_type": "execute_result"
    },
    {
     "data": {
      "image/png": "[encoded data removed]",
      "text/plain": [
       "<Figure size 432x288 with 2 Axes>"
      ]
     },
     "metadata": {
      "needs_background": "light"
     },
     "output_type": "display_data"
    }
   ],
   "source": [
    "sb.heatmap(data,  cmap = \"RdBu\")"
   ]
  },
  {
   "cell_type": "markdown",
   "id": "f38ade39",
   "metadata": {},
   "source": [
    "El mapa de calor indica de manera gráfica la correlación entre dos variables, donde sea más fuerte el color, significa que la correlación es más grande."
   ]
  }
 ],
 "metadata": {
  "kernelspec": {
   "display_name": "Python 3 (ipykernel)",
   "language": "python",
   "name": "python3"
  },
  "language_info": {
   "codemirror_mode": {
    "name": "ipython",
    "version": 3
   },
   "file_extension": ".py",
   "mimetype": "text/x-python",
   "name": "python",
   "nbconvert_exporter": "python",
   "pygments_lexer": "ipython3",
   "version": "3.9.12"
  }
 },
 "nbformat": 4,
 "nbformat_minor": 5
}
